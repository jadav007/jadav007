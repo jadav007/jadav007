{
 "cells": [
  {
   "cell_type": "code",
   "execution_count": 3,
   "id": "33c62f8f-372c-42e4-9458-c7d1b8ef2163",
   "metadata": {},
   "outputs": [
    {
     "name": "stdout",
     "output_type": "stream",
     "text": [
      "Mean: [array([[0, 1, 2],\n",
      "       [3, 4, 5],\n",
      "       [6, 7, 8]]), np.float64(4.0)]\n",
      "Variance: [array([[0, 1, 2],\n",
      "       [3, 4, 5],\n",
      "       [6, 7, 8]]), np.float64(6.666666666666667)]\n",
      "Standard Deviation: [array([[0, 1, 2],\n",
      "       [3, 4, 5],\n",
      "       [6, 7, 8]]), np.float64(2.581988897471611)]\n",
      "Min: [array([[0, 1, 2],\n",
      "       [3, 4, 5],\n",
      "       [6, 7, 8]]), np.int64(0)]\n",
      "Max: [array([[0, 1, 2],\n",
      "       [3, 4, 5],\n",
      "       [6, 7, 8]]), np.int64(8)]\n",
      "Max: [array([[0, 1, 2],\n",
      "       [3, 4, 5],\n",
      "       [6, 7, 8]]), array([ 3, 12, 21])]\n"
     ]
    }
   ],
   "source": [
    "import numpy as np\n",
    "def calculate(li):\n",
    "    array=np.array(li)\n",
    "    array=array.reshape(3,3)\n",
    "    mean=np.mean(array)\n",
    "    variance=np.var(array)\n",
    "    standard_deviation=np.sqrt(variance)\n",
    "    minimum=np.min(array)\n",
    "    maximum=np.max(array)\n",
    "    sum_of=np.sum(array,axis=1)\n",
    "    print(\"Mean:\",[array,mean])\n",
    "    print(\"Variance:\",[array,variance])\n",
    "    print(\"Standard Deviation:\",[array,standard_deviation])\n",
    "    print(\"Min:\",[array,minimum])\n",
    "    print(\"Max:\",[array,maximum])\n",
    "    print(\"Max:\",[array,sum_of])\n",
    "    \n",
    "li=[0,1,2,3,4,5,6,7,8]\n",
    "calculate(li)\n",
    "\n",
    "\n",
    "\n"
   ]
  },
  {
   "cell_type": "code",
   "execution_count": null,
   "id": "6b6987b2-b1e3-433d-89cb-e6d1392cb447",
   "metadata": {},
   "outputs": [],
   "source": []
  }
 ],
 "metadata": {
  "kernelspec": {
   "display_name": "Python 3 (ipykernel)",
   "language": "python",
   "name": "python3"
  },
  "language_info": {
   "codemirror_mode": {
    "name": "ipython",
    "version": 3
   },
   "file_extension": ".py",
   "mimetype": "text/x-python",
   "name": "python",
   "nbconvert_exporter": "python",
   "pygments_lexer": "ipython3",
   "version": "3.12.6"
  }
 },
 "nbformat": 4,
 "nbformat_minor": 5
}
