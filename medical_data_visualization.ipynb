{
 "cells": [
  {
   "cell_type": "code",
   "execution_count": null,
   "id": "b53e29cf-566e-4f11-b451-cb3d05b8c687",
   "metadata": {},
   "outputs": [],
   "source": [
    "import pandas as pd\n",
    "import seaborn as sns\n",
    "import matplotlib.pyplot as plt\n",
    "import numpy as np\n",
    "\n",
    "# 1. Import the data from medical_examination.csv and assign it to the df variable\n",
    "df = pd.read_csv('medical_examination.csv')\n",
    "\n",
    "# 2. Create the overweight column in the df variable\n",
    "df['BMI'] = df['weight'] / (df['height'] ** 2)\n",
    "df['overweight'] = (df['BMI'] > 25).astype(int)\n",
    "\n",
    "# 3. Normalize data by making 0 always good and 1 always bad.\n",
    "df['cholesterol'] = (df['cholesterol'] > 1).astype(int)\n",
    "df['gluc'] = (df['gluc'] > 1).astype(int)\n",
    "\n",
    "# 4. Draw the Categorical Plot in the draw_cat_plot function\n",
    "def draw_cat_plot():\n",
    "    # Create a DataFrame for the cat plot\n",
    "    df_cat = pd.melt(df, id_vars=['cardio'], value_vars=['cholesterol', 'gluc', 'smoke', 'alco', 'active', 'overweight'])\n",
    "\n",
    "    # Group and reformat the data\n",
    "    df_cat = df_cat.groupby(['cardio', 'variable', 'value']).size().reset_index(name='count')\n",
    "\n",
    "    # Create the catplot\n",
    "    fig = sns.catplot(x='variable', hue='value', col='cardio', kind='count', data=df_cat).fig\n",
    "    return fig\n",
    "\n",
    "# 5. Draw the Heat Map in the draw_heat_map function\n",
    "def draw_heat_map():\n",
    "    # Clean the data\n",
    "    df_heat = df[(df['ap_lo'] <= df['ap_hi']) &\n",
    "                 (df['height'] >= df['height'].quantile(0.025)) &\n",
    "                 (df['height'] <= df['height'].quantile(0.975)) &\n",
    "                 (df['weight'] >= df['weight'].quantile(0.025)) &\n",
    "                 (df['weight'] <= df['weight'].quantile(0.975))]\n",
    "\n",
    "    # Calculate the correlation matrix\n",
    "    corr = df_heat.corr()\n",
    "\n",
    "    # Generate a mask for the upper triangle\n",
    "    mask = np.triu(np.ones_like(corr, dtype=bool))\n",
    "\n",
    "    # Set up the matplotlib figure\n",
    "    plt.figure(figsize=(10, 8))\n",
    "\n",
    "    # Plot the heatmap\n",
    "    sns.heatmap(corr, mask=mask, annot=True, cmap='coolwarm', vmin=-1, vmax=1, center=0, square=True, linewidths=0.5)\n",
    "    plt.show()\n",
    "\n",
    "# Call the functions to execute the plotting\n",
    "draw_cat_plot()\n",
    "draw_heat_map()\n"
   ]
  }
 ],
 "metadata": {
  "kernelspec": {
   "display_name": "Python 3 (ipykernel)",
   "language": "python",
   "name": "python3"
  },
  "language_info": {
   "codemirror_mode": {
    "name": "ipython",
    "version": 3
   },
   "file_extension": ".py",
   "mimetype": "text/x-python",
   "name": "python",
   "nbconvert_exporter": "python",
   "pygments_lexer": "ipython3",
   "version": "3.12.6"
  }
 },
 "nbformat": 4,
 "nbformat_minor": 5
}
